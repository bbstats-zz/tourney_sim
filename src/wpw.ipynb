{
 "metadata": {
  "language_info": {
   "codemirror_mode": {
    "name": "ipython",
    "version": 3
   },
   "file_extension": ".py",
   "mimetype": "text/x-python",
   "name": "python",
   "nbconvert_exporter": "python",
   "pygments_lexer": "ipython3",
   "version": "3.7.3-final"
  },
  "orig_nbformat": 2,
  "kernelspec": {
   "name": "python3",
   "display_name": "Python 3",
   "language": "python"
  }
 },
 "nbformat": 4,
 "nbformat_minor": 2,
 "cells": [
  {
   "cell_type": "code",
   "execution_count": 8,
   "metadata": {},
   "outputs": [
    {
     "output_type": "stream",
     "name": "stderr",
     "text": [
      "ipykernel_launcher:8: SettingWithCopyWarning: \nA value is trying to be set on a copy of a slice from a DataFrame.\nTry using .loc[row_indexer,col_indexer] = value instead\n\nSee the caveats in the documentation: https://pandas.pydata.org/pandas-docs/stable/user_guide/indexing.html#returning-a-view-versus-a-copy\nipykernel_launcher:10: SettingWithCopyWarning: \nA value is trying to be set on a copy of a slice from a DataFrame.\nTry using .loc[row_indexer,col_indexer] = value instead\n\nSee the caveats in the documentation: https://pandas.pydata.org/pandas-docs/stable/user_guide/indexing.html#returning-a-view-versus-a-copy\n"
     ]
    }
   ],
   "source": [
    "import pandas as pd\n",
    "df = pd.read_csv(\"wpw.csv\")\n",
    "\n",
    "a = {\"PlayIn-MSU-UCLA\":\"Michigan State\",\"PlayIn-WICH-DRKE\":\"Wichita State\",\"PlayIn-MSM-TXSO\":\"Mount St. Mary's\",\"PlayIn-NORF-APP\":\"Norfolk State\" }\n",
    "b = {\"PlayIn-MSU-UCLA\":\"UCLA\",\"PlayIn-WICH-DRKE\":\"Drake\",\"PlayIn-MSM-TXSO\":\"Texas Southern\",\"PlayIn-NORF-APP\":\"Appalachian State\" }\n",
    "\n",
    "a_df = df.loc[df[\"Team\"].str.contains(\"PlayIn\")]\n",
    "a_df[\"Team\"]=a_df[\"Team\"].map(a)\n",
    "b_df = df.loc[df[\"Team\"].str.contains(\"PlayIn\")]\n",
    "b_df[\"Team\"]=b_df[\"Team\"].map(b)\n",
    "\n",
    "df=df.loc[~df[\"Team\"].str.contains(\"PlayIn\")]\n",
    "df=df.append(a_df).append(b_df)"
   ]
  },
  {
   "cell_type": "code",
   "execution_count": 10,
   "metadata": {},
   "outputs": [],
   "source": [
    "df.to_csv(\"fixed_wpw.csv\")"
   ]
  }
 ]
}