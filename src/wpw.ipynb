{
 "metadata": {
  "language_info": {
   "codemirror_mode": {
    "name": "ipython",
    "version": 3
   },
   "file_extension": ".py",
   "mimetype": "text/x-python",
   "name": "python",
   "nbconvert_exporter": "python",
   "pygments_lexer": "ipython3",
   "version": "3.7.4-final"
  },
  "orig_nbformat": 2,
  "kernelspec": {
   "name": "python3",
   "display_name": "Python 3.7.4 64-bit ('venv': venv)",
   "metadata": {
    "interpreter": {
     "hash": "f6b2c965137593cb1525038fb1d25c6469cb09724c801dcebe9f704a29b39409"
    }
   }
  }
 },
 "nbformat": 4,
 "nbformat_minor": 2,
 "cells": [
  {
   "cell_type": "code",
   "execution_count": 2,
   "metadata": {},
   "outputs": [
    {
     "output_type": "execute_result",
     "data": {
      "text/plain": [
       "                Team      2      3      4      5      6      7\n",
       "40   PlayIn-MSU-UCLA  0.346  0.085  0.027  0.010  0.004  0.003\n",
       "48  PlayIn-WICH-DRKE  0.210  0.044  0.010  0.003  0.001  0.001\n",
       "62   PlayIn-MSM-TXSO  0.027  0.013  0.007  0.004  0.002  0.001\n",
       "63   PlayIn-NORF-APP  0.024  0.011  0.007  0.004  0.002  0.001"
      ],
      "text/html": "<div>\n<style scoped>\n    .dataframe tbody tr th:only-of-type {\n        vertical-align: middle;\n    }\n\n    .dataframe tbody tr th {\n        vertical-align: top;\n    }\n\n    .dataframe thead th {\n        text-align: right;\n    }\n</style>\n<table border=\"1\" class=\"dataframe\">\n  <thead>\n    <tr style=\"text-align: right;\">\n      <th></th>\n      <th>Team</th>\n      <th>2</th>\n      <th>3</th>\n      <th>4</th>\n      <th>5</th>\n      <th>6</th>\n      <th>7</th>\n    </tr>\n  </thead>\n  <tbody>\n    <tr>\n      <th>40</th>\n      <td>PlayIn-MSU-UCLA</td>\n      <td>0.346</td>\n      <td>0.085</td>\n      <td>0.027</td>\n      <td>0.010</td>\n      <td>0.004</td>\n      <td>0.003</td>\n    </tr>\n    <tr>\n      <th>48</th>\n      <td>PlayIn-WICH-DRKE</td>\n      <td>0.210</td>\n      <td>0.044</td>\n      <td>0.010</td>\n      <td>0.003</td>\n      <td>0.001</td>\n      <td>0.001</td>\n    </tr>\n    <tr>\n      <th>62</th>\n      <td>PlayIn-MSM-TXSO</td>\n      <td>0.027</td>\n      <td>0.013</td>\n      <td>0.007</td>\n      <td>0.004</td>\n      <td>0.002</td>\n      <td>0.001</td>\n    </tr>\n    <tr>\n      <th>63</th>\n      <td>PlayIn-NORF-APP</td>\n      <td>0.024</td>\n      <td>0.011</td>\n      <td>0.007</td>\n      <td>0.004</td>\n      <td>0.002</td>\n      <td>0.001</td>\n    </tr>\n  </tbody>\n</table>\n</div>"
     },
     "metadata": {},
     "execution_count": 2
    }
   ],
   "source": [
    "import pandas as pd\n",
    "df = pd.read_csv(\"wpw.csv\")"
   ]
  },
  {
   "cell_type": "code",
   "execution_count": 4,
   "metadata": {},
   "outputs": [
    {
     "output_type": "execute_result",
     "data": {
      "text/plain": [
       "                Team      2      3      4      5      6      7\n",
       "40   PlayIn-MSU-UCLA  0.346  0.085  0.027  0.010  0.004  0.003\n",
       "48  PlayIn-WICH-DRKE  0.210  0.044  0.010  0.003  0.001  0.001\n",
       "62   PlayIn-MSM-TXSO  0.027  0.013  0.007  0.004  0.002  0.001\n",
       "63   PlayIn-NORF-APP  0.024  0.011  0.007  0.004  0.002  0.001\n",
       "40   PlayIn-MSU-UCLA  0.346  0.085  0.027  0.010  0.004  0.003\n",
       "48  PlayIn-WICH-DRKE  0.210  0.044  0.010  0.003  0.001  0.001\n",
       "62   PlayIn-MSM-TXSO  0.027  0.013  0.007  0.004  0.002  0.001\n",
       "63   PlayIn-NORF-APP  0.024  0.011  0.007  0.004  0.002  0.001"
      ],
      "text/html": "<div>\n<style scoped>\n    .dataframe tbody tr th:only-of-type {\n        vertical-align: middle;\n    }\n\n    .dataframe tbody tr th {\n        vertical-align: top;\n    }\n\n    .dataframe thead th {\n        text-align: right;\n    }\n</style>\n<table border=\"1\" class=\"dataframe\">\n  <thead>\n    <tr style=\"text-align: right;\">\n      <th></th>\n      <th>Team</th>\n      <th>2</th>\n      <th>3</th>\n      <th>4</th>\n      <th>5</th>\n      <th>6</th>\n      <th>7</th>\n    </tr>\n  </thead>\n  <tbody>\n    <tr>\n      <th>40</th>\n      <td>PlayIn-MSU-UCLA</td>\n      <td>0.346</td>\n      <td>0.085</td>\n      <td>0.027</td>\n      <td>0.010</td>\n      <td>0.004</td>\n      <td>0.003</td>\n    </tr>\n    <tr>\n      <th>48</th>\n      <td>PlayIn-WICH-DRKE</td>\n      <td>0.210</td>\n      <td>0.044</td>\n      <td>0.010</td>\n      <td>0.003</td>\n      <td>0.001</td>\n      <td>0.001</td>\n    </tr>\n    <tr>\n      <th>62</th>\n      <td>PlayIn-MSM-TXSO</td>\n      <td>0.027</td>\n      <td>0.013</td>\n      <td>0.007</td>\n      <td>0.004</td>\n      <td>0.002</td>\n      <td>0.001</td>\n    </tr>\n    <tr>\n      <th>63</th>\n      <td>PlayIn-NORF-APP</td>\n      <td>0.024</td>\n      <td>0.011</td>\n      <td>0.007</td>\n      <td>0.004</td>\n      <td>0.002</td>\n      <td>0.001</td>\n    </tr>\n    <tr>\n      <th>40</th>\n      <td>PlayIn-MSU-UCLA</td>\n      <td>0.346</td>\n      <td>0.085</td>\n      <td>0.027</td>\n      <td>0.010</td>\n      <td>0.004</td>\n      <td>0.003</td>\n    </tr>\n    <tr>\n      <th>48</th>\n      <td>PlayIn-WICH-DRKE</td>\n      <td>0.210</td>\n      <td>0.044</td>\n      <td>0.010</td>\n      <td>0.003</td>\n      <td>0.001</td>\n      <td>0.001</td>\n    </tr>\n    <tr>\n      <th>62</th>\n      <td>PlayIn-MSM-TXSO</td>\n      <td>0.027</td>\n      <td>0.013</td>\n      <td>0.007</td>\n      <td>0.004</td>\n      <td>0.002</td>\n      <td>0.001</td>\n    </tr>\n    <tr>\n      <th>63</th>\n      <td>PlayIn-NORF-APP</td>\n      <td>0.024</td>\n      <td>0.011</td>\n      <td>0.007</td>\n      <td>0.004</td>\n      <td>0.002</td>\n      <td>0.001</td>\n    </tr>\n  </tbody>\n</table>\n</div>"
     },
     "metadata": {},
     "execution_count": 4
    }
   ],
   "source": [
    "df.loc[df[\"Team\"].str.contains(\"PlayIn\")].append(df.loc[df[\"Team\"].str.contains(\"PlayIn\")])"
   ]
  }
 ]
}